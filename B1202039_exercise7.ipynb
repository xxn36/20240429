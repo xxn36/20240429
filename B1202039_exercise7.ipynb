{
  "nbformat": 4,
  "nbformat_minor": 0,
  "metadata": {
    "colab": {
      "provenance": []
    },
    "kernelspec": {
      "name": "python3",
      "display_name": "Python 3"
    },
    "language_info": {
      "name": "python"
    }
  },
  "cells": [
    {
      "cell_type": "code",
      "execution_count": 25,
      "metadata": {
        "colab": {
          "base_uri": "https://localhost:8080/"
        },
        "id": "RQblxJNWqcWD",
        "outputId": "30fdcf5e-500b-4e16-88be-b5c8d680ad46"
      },
      "outputs": [
        {
          "output_type": "stream",
          "name": "stdout",
          "text": [
            "請輸入樹的高度： 8\n",
            "       *       \n",
            "      ***      \n",
            "     *****     \n",
            "    *******    \n",
            "   *********   \n",
            "  ***********  \n",
            " ************* \n",
            "***************\n",
            "      ***      \n",
            "      ***      \n",
            "      ***      \n",
            "      ***      \n",
            "      ***      \n"
          ]
        }
      ],
      "source": [
        "def tree(height):\n",
        "    for i in range(1, height + 1):\n",
        "        print(f\"{'*' * (2*i - 1):^{2*height - 1}}\")\n",
        "\n",
        "    stem_width = 3\n",
        "    stem_height = 5\n",
        "    for _ in range(stem_height):\n",
        "        print(f\"{'*' * stem_width:^{2*height - 1}}\")\n",
        "\n",
        "def qq():\n",
        "    try:\n",
        "        height = int(input(\"請輸入樹的高度： \"))\n",
        "        if height < 7:\n",
        "            print(\"高度至少七層以上！\")\n",
        "            return\n",
        "        tree(height)\n",
        "\n",
        "    except ValueError:\n",
        "        print(\"輸入的值錯誤，請重新輸入！\")\n",
        "qq()"
      ]
    },
    {
      "cell_type": "code",
      "source": [
        "def bmi(height, weight):\n",
        "    try:\n",
        "        height = float(height) / 100\n",
        "        weight = float(weight)\n",
        "        bmi = weight / (height ** 2)\n",
        "        return bmi\n",
        "    except ValueError:\n",
        "        return \"輸入內容錯誤！\"\n",
        "\n",
        "def bodyshape(bmi):\n",
        "    if bmi < 18.5:\n",
        "        return \"體位：過輕\"\n",
        "    elif bmi < 24:\n",
        "        return \"體位：適中\"\n",
        "    elif bmi < 27:\n",
        "        return \"體位：過重\"\n",
        "    else:\n",
        "        return \"體位：肥胖\"\n",
        "\n",
        "height_input = input(\"請輸入身高(公分): \")\n",
        "weight_input = input(\"請輸入體重(公斤): \")\n",
        "\n",
        "try:\n",
        "    bmi_result = bmi(height_input, weight_input)\n",
        "    body_shape = bodyshape(bmi_result)\n",
        "    print(\"BMI:\", bmi_result)\n",
        "    print(body_shape)\n",
        "except ValueError:\n",
        "    print(\"輸入內容錯誤，請輸入數字！\")\n"
      ],
      "metadata": {
        "colab": {
          "base_uri": "https://localhost:8080/"
        },
        "id": "BrqgibSx3824",
        "outputId": "03ab55a9-2eed-4592-b3e6-b291ee1ad83f"
      },
      "execution_count": 36,
      "outputs": [
        {
          "output_type": "stream",
          "name": "stdout",
          "text": [
            "請輸入身高(公分): 180\n",
            "請輸入體重(公斤): 76\n",
            "BMI: 23.456790123456788\n",
            "體位：適中\n"
          ]
        }
      ]
    }
  ]
}